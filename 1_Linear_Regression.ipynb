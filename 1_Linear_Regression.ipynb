{
  "nbformat": 4,
  "nbformat_minor": 0,
  "metadata": {
    "colab": {
      "name": "1-Linear-Regression.ipynb",
      "provenance": []
    },
    "kernelspec": {
      "name": "python3",
      "display_name": "Python 3"
    },
    "language_info": {
      "name": "python"
    },
    "accelerator": "GPU"
  },
  "cells": [
    {
      "cell_type": "markdown",
      "metadata": {
        "id": "iYK7G7ce3Q0z"
      },
      "source": [
        "# Linear Regression\n",
        "\n",
        "**Definition:** Linear regression is a statistical method for modelling relationship between a dependent variable with a given set of independent variables. For example, we are given some data points of x and corresponding y and we need to learn the relationship between them that is called a **hypothesis**.\n",
        "\n",
        "In case of linear regression, the hypothesis is a straight line: $h(x)=\\omega x + b$\n",
        "\n",
        "Where $\\omega$ is a vector called **weigths** and $b$ is a scalar called **bias**.\n",
        "\n",
        "All we need to do is estimate the value of $\\omega$ and $b$ from the given set of data such that the resultant hypothesis produces the least cost $J$ which is defined by the following cost function\n",
        "\n",
        "$J(\\omega, b)=\\frac{1} {2m}\\sum_{i=1}^m(y_i-h(x_i))^2$\n",
        "\n",
        "where $m$ is the number of data points in the given dataset. This cost function is also called **Mean Squared Error**.\n",
        "\n",
        "For finding the optimized value of the parameters for which $J$ is minimum, we will be using a commonly used optimizer algorithm called **Gradient Descent**. Following is the pseudo-code for Gradient Descent:\n",
        "\n",
        "Repeat untill Convergence \n",
        "\n",
        "    w = w - α * δJ/δw\n",
        "    b = b - α * δJ/δb\n",
        "\n",
        "Where $\\alpha$ is a **hyperparameter** called the **Learning Rate**.\n"
      ]
    },
    {
      "cell_type": "markdown",
      "metadata": {
        "id": "pWqI7ON368cL"
      },
      "source": [
        "# Implementation\n"
      ]
    },
    {
      "cell_type": "code",
      "metadata": {
        "id": "459PYwoU6--W"
      },
      "source": [
        "%tensorflow_version 1.x"
      ],
      "execution_count": 4,
      "outputs": []
    },
    {
      "cell_type": "code",
      "metadata": {
        "id": "q2S3TGSd7dwA"
      },
      "source": [
        "# Importing necessary libraries. Numpy for Tensor computation\n",
        "# and matplotlib for plotting\n",
        "import numpy as np\n",
        "import tensorflow as tf\n",
        "import matplotlib.pyplot as plt"
      ],
      "execution_count": 8,
      "outputs": []
    },
    {
      "cell_type": "code",
      "metadata": {
        "id": "2G0IKmta7wJR"
      },
      "source": [
        "# In order to make random numbers more predictable\n",
        "# we define fixed seeds for both Numpy and Tensorflow\n",
        "np.random.seed(101)\n",
        "tf.set_random_seed(101)"
      ],
      "execution_count": 9,
      "outputs": []
    },
    {
      "cell_type": "code",
      "metadata": {
        "colab": {
          "base_uri": "https://localhost:8080/",
          "height": 295
        },
        "id": "jPSZ2f_Y8GVA",
        "outputId": "a45c7e7e-40ae-46a9-91c8-df283d84fd83"
      },
      "source": [
        "# Generate random linear data\n",
        "x = np.linspace(0, 50, num=50)\n",
        "y = np.linspace(0, 50, num=50)\n",
        "\n",
        "# Adding noise to the random linear data\n",
        "x += np.random.uniform(-4, 4, 50)\n",
        "y += np.random.uniform(-4, 4, 50)\n",
        "\n",
        "m = len(x) # Number of data points\n",
        "\n",
        "# Plotting the randomized data\n",
        "plt.scatter(x, y)\n",
        "plt.xlabel('x')\n",
        "plt.ylabel('y')\n",
        "plt.title('Training Data')\n",
        "plt.show()"
      ],
      "execution_count": 10,
      "outputs": [
        {
          "output_type": "display_data",
          "data": {
            "image/png": "[encoded data removed]",
            "text/plain": [
              "<Figure size 432x288 with 1 Axes>"
            ]
          },
          "metadata": {
            "tags": [],
            "needs_background": "light"
          }
        }
      ]
    },
    {
      "cell_type": "code",
      "metadata": {
        "colab": {
          "base_uri": "https://localhost:8080/",
          "height": 740
        },
        "id": "M2_E58Dz80FB",
        "outputId": "8a045b66-a9d3-4851-edb2-511130750bcc"
      },
      "source": [
        "# Defining placeholders, so that we can \n",
        "# feed our training examples into the optimizer\n",
        "# during the training process\n",
        "X = tf.placeholder(\"float\")\n",
        "Y = tf.placeholder(\"float\")\n",
        "\n",
        "# Declaring the trainable variables\n",
        "# for the weights and bias\n",
        "W = tf.Variable(np.random.randn(), name=\"W\")\n",
        "b = tf.Variable(np.random.randn(), name=\"b\")\n",
        "\n",
        "# Learning rate, and number of epochs\n",
        "learning_rate = 0.01\n",
        "training_epochs = 1000\n",
        "\n",
        "# Now, we will be building the Hypothesis, \n",
        "# the Cost Function, and the Optimizer.\n",
        "# Gradient Descent is already built-in in TensorFlow\n",
        "# Hypothesis\n",
        "y_pred = tf.add(tf.multiply(X, W), b)\n",
        "\n",
        "# Mean Squared Error Cost Function\n",
        "cost = tf.reduce_sum(tf.pow(y_pred-Y, 2)) / (2 * m)\n",
        "\n",
        "# Gradient Descent Optimizer\n",
        "optimizer = tf.train.GradientDescentOptimizer(learning_rate).minimize(cost)\n",
        "\n",
        "# Global Variables Initializer\n",
        "init = tf.global_variables_initializer()\n",
        "\n",
        "with tf.Session() as sess:\n",
        "  sess.run(init)\n",
        "\n",
        "  for epoch in range(training_epochs):\n",
        "\n",
        "    for (_x, _y) in zip(x,y):\n",
        "      sess.run(optimizer, feed_dict={X: _x, Y: _y})\n",
        "\n",
        "    if (epoch + 1) % 50 == 0:\n",
        "      c = sess.run(cost, feed_dict={X: x, Y: y})\n",
        "      print(\"Epoch\", (epoch + 1), \": cost =\", c, \"W =\", sess.run(W), \"b =\", sess.run(b))\n",
        "\n",
        "    training_cost = sess.run(cost, feed_dict={X: x, Y: y})\n",
        "    weight = sess.run(W)\n",
        "    bias = sess.run(b)\n",
        "\n",
        "predictions = weight * x + bias\n",
        "print(\"Training cost =\", training_cost, \"Weight =\", weight, \"bias =\", bias, '\\n')\n",
        "\n",
        "# Plotting results\n",
        "plt.plot(x, y, 'ro', label='Original data')\n",
        "plt.plot(x, predictions, label='Fitted Line')\n",
        "plt.title('Linear Regression result')\n",
        "plt.legend()\n",
        "plt.show()"
      ],
      "execution_count": 12,
      "outputs": [
        {
          "output_type": "stream",
          "text": [
            "WARNING:tensorflow:From /tensorflow-1.15.2/python3.7/tensorflow_core/python/ops/math_grad.py:1375: where (from tensorflow.python.ops.array_ops) is deprecated and will be removed in a future version.\n",
            "Instructions for updating:\n",
            "Use tf.where in 2.0, which has the same broadcast rule as np.where\n",
            "Epoch 50 : cost = 5.2335815 W = 1.0273161 b = -0.33595607\n",
            "Epoch 100 : cost = 5.2369714 W = 1.0268768 b = -0.3144783\n",
            "Epoch 150 : cost = 5.2401304 W = 1.0264845 b = -0.29529518\n",
            "Epoch 200 : cost = 5.243056 W = 1.0261341 b = -0.2781603\n",
            "Epoch 250 : cost = 5.2457495 W = 1.0258211 b = -0.26285723\n",
            "Epoch 300 : cost = 5.248219 W = 1.0255415 b = -0.24918869\n",
            "Epoch 350 : cost = 5.2504797 W = 1.0252919 b = -0.23697995\n",
            "Epoch 400 : cost = 5.25254 W = 1.0250689 b = -0.2260754\n",
            "Epoch 450 : cost = 5.254414 W = 1.0248697 b = -0.21633582\n",
            "Epoch 500 : cost = 5.256113 W = 1.0246918 b = -0.20763645\n",
            "Epoch 550 : cost = 5.257653 W = 1.0245329 b = -0.19986646\n",
            "Epoch 600 : cost = 5.2590446 W = 1.0243909 b = -0.1929263\n",
            "Epoch 650 : cost = 5.2602997 W = 1.0242641 b = -0.18672726\n",
            "Epoch 700 : cost = 5.2614355 W = 1.024151 b = -0.18119058\n",
            "Epoch 750 : cost = 5.2624536 W = 1.0240498 b = -0.17624527\n",
            "Epoch 800 : cost = 5.2633743 W = 1.0239595 b = -0.17182814\n",
            "Epoch 850 : cost = 5.2641997 W = 1.0238788 b = -0.16788346\n",
            "Epoch 900 : cost = 5.2649403 W = 1.0238067 b = -0.16436008\n",
            "Epoch 950 : cost = 5.265606 W = 1.0237423 b = -0.16121258\n",
            "Epoch 1000 : cost = 5.2662053 W = 1.0236849 b = -0.15840195\n",
            "Training cost = 5.2662053 Weight = 1.0236849 bias = -0.15840195 \n",
            "\n"
          ],
          "name": "stdout"
        },
        {
          "output_type": "display_data",
          "data": {
            "image/png": "[encoded data removed]",
            "text/plain": [
              "<Figure size 432x288 with 1 Axes>"
            ]
          },
          "metadata": {
            "tags": [],
            "needs_background": "light"
          }
        }
      ]
    }
  ]
}